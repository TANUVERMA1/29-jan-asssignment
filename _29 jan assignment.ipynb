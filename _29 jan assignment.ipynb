{
 "cells": [
  {
   "cell_type": "code",
   "execution_count": 2,
   "id": "05586cca-6a5b-4ed4-8053-420cc3a19384",
   "metadata": {},
   "outputs": [
    {
     "name": "stdout",
     "output_type": "stream",
     "text": [
      "Object `language` not found.\n"
     ]
    }
   ],
   "source": [
    "who developed python programming language?"
   ]
  },
  {
   "cell_type": "markdown",
   "id": "f065e881-5061-4c22-89a5-78dbc30f0aba",
   "metadata": {},
   "source": [
    "When he began implementing Python, Guido van Rossum was also reading the published scripts from “Monty Python's Flying Circus”, a BBC comedy series from the 1970s. Van Rossum thought he needed a name that was short, unique, and slightly mysterious, so he decided to call the language Python."
   ]
  },
  {
   "cell_type": "raw",
   "id": "37569c78-5d92-4a11-8c3e-820086d2b7ff",
   "metadata": {},
   "source": [
    "which type of program does python support ?"
   ]
  },
  {
   "cell_type": "markdown",
   "id": "95a3c14a-0698-4ef9-bede-d785e8e7bbf3",
   "metadata": {},
   "source": [
    "Python is a multi-paradigm programming language. Object-oriented programming and structured programming are fully supported, and many of their features support functional programming and aspect-oriented programming (including metaprogramming and metaobjects)."
   ]
  },
  {
   "cell_type": "raw",
   "id": "c800e5f8-b659-4466-a4cb-8b497ef9acc2",
   "metadata": {},
   "source": [
    "IS python case sensitive when dealing with identifiers?"
   ]
  },
  {
   "cell_type": "markdown",
   "id": "7d466306-9bce-41e0-9e11-cbd2a499111a",
   "metadata": {},
   "source": [
    "Yes, Python is a case−sensitive programming language. This means that it considers uppercase and lowercase letters differently."
   ]
  },
  {
   "cell_type": "markdown",
   "id": "e8b505c6-8dcd-49d2-ade8-35e6e659376d",
   "metadata": {},
   "source": [
    "what is the correct extension of the python file ?"
   ]
  },
  {
   "cell_type": "markdown",
   "id": "69ea13b6-6453-4dd3-a09f-9ef2280d56c4",
   "metadata": {},
   "source": [
    "pyc files. . pyc: This is the file extension for compiled Python code files."
   ]
  },
  {
   "cell_type": "markdown",
   "id": "3cbc8fd3-95b1-4fd7-996e-42431381eab3",
   "metadata": {},
   "source": [
    "IS python code compiled or intrepreted ?"
   ]
  },
  {
   "cell_type": "markdown",
   "id": "66c2f351-4fc7-4c0f-a350-8e908c683610",
   "metadata": {},
   "source": [
    "Python is an interpreted language, which means the source code of a Python program is converted into bytecode that is then executed by the Python virtual machine. Python is different from major compiled languages, such as C and C + +, as Python code is not required to be built and linked like code for these languages."
   ]
  },
  {
   "cell_type": "markdown",
   "id": "159868f1-43ae-4099-9861-923c6e9249b4",
   "metadata": {},
   "source": [
    "Name a few blocks of code used to define in the python language?"
   ]
  },
  {
   "cell_type": "markdown",
   "id": "8ab4d46f-2232-452a-b70b-5d61ff2c1f3a",
   "metadata": {},
   "source": [
    " a module, a function body, and a class definition"
   ]
  },
  {
   "cell_type": "markdown",
   "id": "313c989e-456e-4274-8a96-97baad57b4d3",
   "metadata": {},
   "source": [
    "state a character which is used to give singlr line comment in python ?"
   ]
  },
  {
   "cell_type": "markdown",
   "id": "c260173b-a99f-4bf8-af8f-8e886408c19c",
   "metadata": {},
   "source": [
    " Python, we use the hash symbol # to write a single-line comment."
   ]
  },
  {
   "cell_type": "markdown",
   "id": "83ec8627-0540-43c3-9846-b56b53ecd3f1",
   "metadata": {},
   "source": [
    "what are benifits  using python ?"
   ]
  },
  {
   "cell_type": "raw",
   "id": "71586cce-7c56-42be-bac9-a64dcdaeebb6",
   "metadata": {},
   "source": [
    "benifits of python\n",
    "Simple to Use and Understand. For newcomers, Python is simple to understand and use. ...\n",
    "1.Free and Open-Source. Video Player is loading. ...\n",
    "2. Productivity has Increased. ...\n",
    " 3. Interpreted Language. ...\n",
    "4. Extensive library. ...\n",
    "5.Dynamically Typed. ...\n",
    "6.Portability. ...\n",
    "7.Supportive community."
   ]
  },
  {
   "cell_type": "markdown",
   "id": "f45aa29b-b282-4449-bad1-ac8d666d1a54",
   "metadata": {},
   "source": [
    "what does PIP stands for python?"
   ]
  },
  {
   "cell_type": "markdown",
   "id": "06cf59c8-664f-4093-b7fc-c76dfaa6f83c",
   "metadata": {},
   "source": [
    "he standard package manager for Python is pip . It allows you to install and manage packages that aren't part of the Python standard library.\n"
   ]
  },
  {
   "cell_type": "markdown",
   "id": "ee2ac1aa-5e50-4ec1-af32-99b025f5e85f",
   "metadata": {},
   "source": [
    "How is memory m,ananged in python?"
   ]
  },
  {
   "cell_type": "markdown",
   "id": "b1e94af0-b654-4800-861d-eabadc2b1ea3",
   "metadata": {},
   "source": [
    " Python uses the dynamic memory allocation which is managed by the Heap data structure. Memory Heap holds the objects and other data structures that will be used in the program. Python memory manager manages the allocation or de-allocation of the heap memory space through the API functions"
   ]
  },
  {
   "cell_type": "code",
   "execution_count": null,
   "id": "51a54a59-6dc5-44ed-ab8f-76d066c42282",
   "metadata": {},
   "outputs": [],
   "source": [
    "mention"
   ]
  }
 ],
 "metadata": {
  "kernelspec": {
   "display_name": "Python 3 (ipykernel)",
   "language": "python",
   "name": "python3"
  },
  "language_info": {
   "codemirror_mode": {
    "name": "ipython",
    "version": 3
   },
   "file_extension": ".py",
   "mimetype": "text/x-python",
   "name": "python",
   "nbconvert_exporter": "python",
   "pygments_lexer": "ipython3",
   "version": "3.10.8"
  }
 },
 "nbformat": 4,
 "nbformat_minor": 5
}
